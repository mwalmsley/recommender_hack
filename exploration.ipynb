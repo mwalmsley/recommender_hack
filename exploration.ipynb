{
 "cells": [
  {
   "cell_type": "code",
   "execution_count": 1,
   "metadata": {},
   "outputs": [],
   "source": [
    "%load_ext autoreload\n",
    "%autoreload 2\n",
    "%matplotlib inline"
   ]
  },
  {
   "cell_type": "code",
   "execution_count": 2,
   "metadata": {},
   "outputs": [],
   "source": [
    "import pandas as pd\n",
    "import matplotlib.pyplot as plt\n",
    "import numpy as np"
   ]
  },
  {
   "cell_type": "code",
   "execution_count": 24,
   "metadata": {},
   "outputs": [],
   "source": [
    "import os"
   ]
  },
  {
   "cell_type": "code",
   "execution_count": 25,
   "metadata": {},
   "outputs": [],
   "source": [
    "os.chdir('/home/walml/repos/recommender_hack')"
   ]
  },
  {
   "cell_type": "code",
   "execution_count": 26,
   "metadata": {},
   "outputs": [],
   "source": [
    "from recommender import ratings"
   ]
  },
  {
   "cell_type": "code",
   "execution_count": 27,
   "metadata": {},
   "outputs": [
    {
     "name": "stdout",
     "output_type": "stream",
     "text": [
      "/home/walml/repos/recommender_hack\n"
     ]
    }
   ],
   "source": [
    "!pwd"
   ]
  },
  {
   "cell_type": "code",
   "execution_count": 4,
   "metadata": {},
   "outputs": [],
   "source": [
    "com = pd.read_json('/home/walml/Downloads/project-5733-comments_2020-04-01.json')"
   ]
  },
  {
   "cell_type": "code",
   "execution_count": 5,
   "metadata": {},
   "outputs": [
    {
     "data": {
      "text/html": [
       "<div>\n",
       "<style scoped>\n",
       "    .dataframe tbody tr th:only-of-type {\n",
       "        vertical-align: middle;\n",
       "    }\n",
       "\n",
       "    .dataframe tbody tr th {\n",
       "        vertical-align: top;\n",
       "    }\n",
       "\n",
       "    .dataframe thead th {\n",
       "        text-align: right;\n",
       "    }\n",
       "</style>\n",
       "<table border=\"1\" class=\"dataframe\">\n",
       "  <thead>\n",
       "    <tr style=\"text-align: right;\">\n",
       "      <th></th>\n",
       "      <th>board_id</th>\n",
       "      <th>board_title</th>\n",
       "      <th>board_description</th>\n",
       "      <th>discussion_id</th>\n",
       "      <th>discussion_title</th>\n",
       "      <th>comment_id</th>\n",
       "      <th>comment_body</th>\n",
       "      <th>comment_focus_id</th>\n",
       "      <th>comment_focus_type</th>\n",
       "      <th>comment_user_id</th>\n",
       "      <th>comment_user_login</th>\n",
       "      <th>comment_created_at</th>\n",
       "    </tr>\n",
       "  </thead>\n",
       "  <tbody>\n",
       "    <tr>\n",
       "      <th>0</th>\n",
       "      <td>1267</td>\n",
       "      <td>Notes</td>\n",
       "      <td>General comment threads about individual subjects</td>\n",
       "      <td>528398</td>\n",
       "      <td>Subject 16215478</td>\n",
       "      <td>876591</td>\n",
       "      <td>The zoom scale of this image is incorrect. I a...</td>\n",
       "      <td>16215478.0</td>\n",
       "      <td>Subject</td>\n",
       "      <td>54</td>\n",
       "      <td>klmasters</td>\n",
       "      <td>2018-01-22 19:45:35.679000+00:00</td>\n",
       "    </tr>\n",
       "    <tr>\n",
       "      <th>1</th>\n",
       "      <td>1267</td>\n",
       "      <td>Notes</td>\n",
       "      <td>General comment threads about individual subjects</td>\n",
       "      <td>539286</td>\n",
       "      <td>Subject 16215746</td>\n",
       "      <td>894378</td>\n",
       "      <td>this seems to have a lens effect</td>\n",
       "      <td>16215746.0</td>\n",
       "      <td>Subject</td>\n",
       "      <td>711942</td>\n",
       "      <td>Arnie52</td>\n",
       "      <td>2018-02-06 15:05:44.833000+00:00</td>\n",
       "    </tr>\n",
       "    <tr>\n",
       "      <th>2</th>\n",
       "      <td>1267</td>\n",
       "      <td>Notes</td>\n",
       "      <td>General comment threads about individual subjects</td>\n",
       "      <td>528398</td>\n",
       "      <td>Subject 16215478</td>\n",
       "      <td>894381</td>\n",
       "      <td>Agree with @klmasters on scale difference. Ans...</td>\n",
       "      <td>16215478.0</td>\n",
       "      <td>Subject</td>\n",
       "      <td>1428920</td>\n",
       "      <td>MerylPG</td>\n",
       "      <td>2018-02-06 15:13:36.441000+00:00</td>\n",
       "    </tr>\n",
       "    <tr>\n",
       "      <th>3</th>\n",
       "      <td>1267</td>\n",
       "      <td>Notes</td>\n",
       "      <td>General comment threads about individual subjects</td>\n",
       "      <td>539298</td>\n",
       "      <td>Subject 16215566</td>\n",
       "      <td>894401</td>\n",
       "      <td>Looks like two galaxies merging</td>\n",
       "      <td>16215566.0</td>\n",
       "      <td>Subject</td>\n",
       "      <td>1430192</td>\n",
       "      <td>mikeroberts17</td>\n",
       "      <td>2018-02-06 15:22:03.160000+00:00</td>\n",
       "    </tr>\n",
       "    <tr>\n",
       "      <th>4</th>\n",
       "      <td>1267</td>\n",
       "      <td>Notes</td>\n",
       "      <td>General comment threads about individual subjects</td>\n",
       "      <td>539300</td>\n",
       "      <td>Subject 16215897</td>\n",
       "      <td>894403</td>\n",
       "      <td>appears to have 3 obvious bright objects lined...</td>\n",
       "      <td>16215897.0</td>\n",
       "      <td>Subject</td>\n",
       "      <td>1658250</td>\n",
       "      <td>Giraffes</td>\n",
       "      <td>2018-02-06 15:22:23.471000+00:00</td>\n",
       "    </tr>\n",
       "    <tr>\n",
       "      <th>...</th>\n",
       "      <td>...</td>\n",
       "      <td>...</td>\n",
       "      <td>...</td>\n",
       "      <td>...</td>\n",
       "      <td>...</td>\n",
       "      <td>...</td>\n",
       "      <td>...</td>\n",
       "      <td>...</td>\n",
       "      <td>...</td>\n",
       "      <td>...</td>\n",
       "      <td>...</td>\n",
       "      <td>...</td>\n",
       "    </tr>\n",
       "    <tr>\n",
       "      <th>87793</th>\n",
       "      <td>1267</td>\n",
       "      <td>Notes</td>\n",
       "      <td>General comment threads about individual subjects</td>\n",
       "      <td>1310651</td>\n",
       "      <td>Subject 41842156</td>\n",
       "      <td>2128629</td>\n",
       "      <td>Thanks</td>\n",
       "      <td>41842156.0</td>\n",
       "      <td>Subject</td>\n",
       "      <td>2011898</td>\n",
       "      <td>aashish1990</td>\n",
       "      <td>2020-04-01 10:06:53.421000+00:00</td>\n",
       "    </tr>\n",
       "    <tr>\n",
       "      <th>87794</th>\n",
       "      <td>1267</td>\n",
       "      <td>Notes</td>\n",
       "      <td>General comment threads about individual subjects</td>\n",
       "      <td>964781</td>\n",
       "      <td>Subject 32411489</td>\n",
       "      <td>2128631</td>\n",
       "      <td>There is another blue galaxy off the picture, ...</td>\n",
       "      <td>32411489.0</td>\n",
       "      <td>Subject</td>\n",
       "      <td>247</td>\n",
       "      <td>Budgieye</td>\n",
       "      <td>2020-04-01 10:07:22.637000+00:00</td>\n",
       "    </tr>\n",
       "    <tr>\n",
       "      <th>87795</th>\n",
       "      <td>1267</td>\n",
       "      <td>Notes</td>\n",
       "      <td>General comment threads about individual subjects</td>\n",
       "      <td>1310672</td>\n",
       "      <td>Subject 36211818</td>\n",
       "      <td>2128632</td>\n",
       "      <td>thanks</td>\n",
       "      <td>36211818.0</td>\n",
       "      <td>Subject</td>\n",
       "      <td>2011898</td>\n",
       "      <td>aashish1990</td>\n",
       "      <td>2020-04-01 10:07:30.422000+00:00</td>\n",
       "    </tr>\n",
       "    <tr>\n",
       "      <th>87796</th>\n",
       "      <td>1267</td>\n",
       "      <td>Notes</td>\n",
       "      <td>General comment threads about individual subjects</td>\n",
       "      <td>1252652</td>\n",
       "      <td>Subject 36217883</td>\n",
       "      <td>2128635</td>\n",
       "      <td>Can someone explain me what is the small orang...</td>\n",
       "      <td>36217883.0</td>\n",
       "      <td>Subject</td>\n",
       "      <td>2012840</td>\n",
       "      <td>Valina</td>\n",
       "      <td>2020-04-01 10:08:04.446000+00:00</td>\n",
       "    </tr>\n",
       "    <tr>\n",
       "      <th>87797</th>\n",
       "      <td>1269</td>\n",
       "      <td>Science</td>\n",
       "      <td>A place to discuss the science behind the site...</td>\n",
       "      <td>1203627</td>\n",
       "      <td>Supernova candidates hunt 2019- 2020</td>\n",
       "      <td>2128669</td>\n",
       "      <td>Hi Richard, 🙂\\n\\nDo you have time to look at a...</td>\n",
       "      <td>36227243.0</td>\n",
       "      <td>Subject</td>\n",
       "      <td>31153</td>\n",
       "      <td>ine</td>\n",
       "      <td>2020-04-01 10:21:41.528000+00:00</td>\n",
       "    </tr>\n",
       "  </tbody>\n",
       "</table>\n",
       "<p>87798 rows × 12 columns</p>\n",
       "</div>"
      ],
      "text/plain": [
       "       board_id board_title  \\\n",
       "0          1267       Notes   \n",
       "1          1267       Notes   \n",
       "2          1267       Notes   \n",
       "3          1267       Notes   \n",
       "4          1267       Notes   \n",
       "...         ...         ...   \n",
       "87793      1267       Notes   \n",
       "87794      1267       Notes   \n",
       "87795      1267       Notes   \n",
       "87796      1267       Notes   \n",
       "87797      1269     Science   \n",
       "\n",
       "                                       board_description  discussion_id  \\\n",
       "0      General comment threads about individual subjects         528398   \n",
       "1      General comment threads about individual subjects         539286   \n",
       "2      General comment threads about individual subjects         528398   \n",
       "3      General comment threads about individual subjects         539298   \n",
       "4      General comment threads about individual subjects         539300   \n",
       "...                                                  ...            ...   \n",
       "87793  General comment threads about individual subjects        1310651   \n",
       "87794  General comment threads about individual subjects         964781   \n",
       "87795  General comment threads about individual subjects        1310672   \n",
       "87796  General comment threads about individual subjects        1252652   \n",
       "87797  A place to discuss the science behind the site...        1203627   \n",
       "\n",
       "                           discussion_title  comment_id  \\\n",
       "0                          Subject 16215478      876591   \n",
       "1                          Subject 16215746      894378   \n",
       "2                          Subject 16215478      894381   \n",
       "3                          Subject 16215566      894401   \n",
       "4                          Subject 16215897      894403   \n",
       "...                                     ...         ...   \n",
       "87793                      Subject 41842156     2128629   \n",
       "87794                      Subject 32411489     2128631   \n",
       "87795                      Subject 36211818     2128632   \n",
       "87796                      Subject 36217883     2128635   \n",
       "87797  Supernova candidates hunt 2019- 2020     2128669   \n",
       "\n",
       "                                            comment_body  comment_focus_id  \\\n",
       "0      The zoom scale of this image is incorrect. I a...        16215478.0   \n",
       "1                       this seems to have a lens effect        16215746.0   \n",
       "2      Agree with @klmasters on scale difference. Ans...        16215478.0   \n",
       "3                        Looks like two galaxies merging        16215566.0   \n",
       "4      appears to have 3 obvious bright objects lined...        16215897.0   \n",
       "...                                                  ...               ...   \n",
       "87793                                             Thanks        41842156.0   \n",
       "87794  There is another blue galaxy off the picture, ...        32411489.0   \n",
       "87795                                             thanks        36211818.0   \n",
       "87796  Can someone explain me what is the small orang...        36217883.0   \n",
       "87797  Hi Richard, 🙂\\n\\nDo you have time to look at a...        36227243.0   \n",
       "\n",
       "      comment_focus_type  comment_user_id comment_user_login  \\\n",
       "0                Subject               54          klmasters   \n",
       "1                Subject           711942            Arnie52   \n",
       "2                Subject          1428920            MerylPG   \n",
       "3                Subject          1430192      mikeroberts17   \n",
       "4                Subject          1658250           Giraffes   \n",
       "...                  ...              ...                ...   \n",
       "87793            Subject          2011898        aashish1990   \n",
       "87794            Subject              247           Budgieye   \n",
       "87795            Subject          2011898        aashish1990   \n",
       "87796            Subject          2012840             Valina   \n",
       "87797            Subject            31153                ine   \n",
       "\n",
       "                    comment_created_at  \n",
       "0     2018-01-22 19:45:35.679000+00:00  \n",
       "1     2018-02-06 15:05:44.833000+00:00  \n",
       "2     2018-02-06 15:13:36.441000+00:00  \n",
       "3     2018-02-06 15:22:03.160000+00:00  \n",
       "4     2018-02-06 15:22:23.471000+00:00  \n",
       "...                                ...  \n",
       "87793 2020-04-01 10:06:53.421000+00:00  \n",
       "87794 2020-04-01 10:07:22.637000+00:00  \n",
       "87795 2020-04-01 10:07:30.422000+00:00  \n",
       "87796 2020-04-01 10:08:04.446000+00:00  \n",
       "87797 2020-04-01 10:21:41.528000+00:00  \n",
       "\n",
       "[87798 rows x 12 columns]"
      ]
     },
     "execution_count": 5,
     "metadata": {},
     "output_type": "execute_result"
    }
   ],
   "source": [
    "com"
   ]
  },
  {
   "cell_type": "code",
   "execution_count": 6,
   "metadata": {},
   "outputs": [],
   "source": [
    "com = com.query('board_title == \"Notes\"')"
   ]
  },
  {
   "cell_type": "code",
   "execution_count": 7,
   "metadata": {},
   "outputs": [
    {
     "data": {
      "text/plain": [
       "(80741, 3034, 46439)"
      ]
     },
     "execution_count": 7,
     "metadata": {},
     "output_type": "execute_result"
    }
   ],
   "source": [
    "len(com), len(com['comment_user_id'].unique()), len(com['comment_focus_id'].unique()) # 80k comments, 3k users, 45k galaxies (i.e. mean of 2 comments per galaxy)"
   ]
  },
  {
   "cell_type": "code",
   "execution_count": 8,
   "metadata": {},
   "outputs": [],
   "source": [
    "galaxies_per_user = com.groupby('comment_user_id').agg({'comment_focus_id': lambda x: len(pd.unique(x))}).reset_index(drop=True)"
   ]
  },
  {
   "cell_type": "code",
   "execution_count": 9,
   "metadata": {},
   "outputs": [
    {
     "data": {
      "text/plain": [
       "Text(0.5, 0, 'Galaxies commented on per user')"
      ]
     },
     "execution_count": 9,
     "metadata": {},
     "output_type": "execute_result"
    },
    {
     "data": {
      "image/png": "[encoded data removed]",
      "text/plain": [
       "<Figure size 432x288 with 1 Axes>"
      ]
     },
     "metadata": {
      "needs_background": "light"
     },
     "output_type": "display_data"
    }
   ],
   "source": [
    "galaxies_per_user[galaxies_per_user < 12000].hist('comment_focus_id')\n",
    "plt.yscale('log')\n",
    "plt.title(None)\n",
    "plt.xlabel('Galaxies commented on per user')"
   ]
  },
  {
   "cell_type": "code",
   "execution_count": 10,
   "metadata": {},
   "outputs": [
    {
     "data": {
      "text/plain": [
       "Text(0.5, 0, 'Galaxies commented on per user')"
      ]
     },
     "execution_count": 10,
     "metadata": {},
     "output_type": "execute_result"
    },
    {
     "data": {
      "image/png": "[encoded data removed]",
      "text/plain": [
       "<Figure size 432x288 with 1 Axes>"
      ]
     },
     "metadata": {
      "needs_background": "light"
     },
     "output_type": "display_data"
    }
   ],
   "source": [
    "galaxies_per_user[galaxies_per_user < 1000].hist('comment_focus_id')\n",
    "plt.yscale('log')\n",
    "plt.title(None)\n",
    "plt.xlabel('Galaxies commented on per user')"
   ]
  },
  {
   "cell_type": "code",
   "execution_count": 11,
   "metadata": {},
   "outputs": [
    {
     "data": {
      "text/plain": [
       "Text(0.5, 0, 'Galaxies commented on per user')"
      ]
     },
     "execution_count": 11,
     "metadata": {},
     "output_type": "execute_result"
    },
    {
     "data": {
      "image/png": "[encoded data removed]",
      "text/plain": [
       "<Figure size 432x288 with 1 Axes>"
      ]
     },
     "metadata": {
      "needs_background": "light"
     },
     "output_type": "display_data"
    }
   ],
   "source": [
    "galaxies_per_user[galaxies_per_user < 50].hist('comment_focus_id', bins=30)\n",
    "# plt.yscale('log')\n",
    "plt.title(None)\n",
    "plt.xlabel('Galaxies commented on per user')"
   ]
  },
  {
   "cell_type": "code",
   "execution_count": 12,
   "metadata": {},
   "outputs": [
    {
     "data": {
      "text/plain": [
       "comment_focus_id    0.509229\n",
       "dtype: float64"
      ]
     },
     "execution_count": 12,
     "metadata": {},
     "output_type": "execute_result"
    }
   ],
   "source": [
    "(galaxies_per_user == 1).mean()"
   ]
  },
  {
   "cell_type": "markdown",
   "metadata": {},
   "source": [
    "Item-based: *these galaxies are similar to the galaxy you talked about*\n",
    "\n",
    "User-based: *users who talk about galaxies like yours, also talk about these galaxies*"
   ]
  },
  {
   "cell_type": "markdown",
   "metadata": {},
   "source": [
    "For new users, with only one or two galaxies, we need use item-based CF. Most talk discussions are made by first-time users."
   ]
  },
  {
   "cell_type": "code",
   "execution_count": 13,
   "metadata": {},
   "outputs": [],
   "source": [
    "temp = com.query('discussion_id == 964781')"
   ]
  },
  {
   "cell_type": "code",
   "execution_count": 14,
   "metadata": {},
   "outputs": [
    {
     "data": {
      "text/html": [
       "<div>\n",
       "<style scoped>\n",
       "    .dataframe tbody tr th:only-of-type {\n",
       "        vertical-align: middle;\n",
       "    }\n",
       "\n",
       "    .dataframe tbody tr th {\n",
       "        vertical-align: top;\n",
       "    }\n",
       "\n",
       "    .dataframe thead th {\n",
       "        text-align: right;\n",
       "    }\n",
       "</style>\n",
       "<table border=\"1\" class=\"dataframe\">\n",
       "  <thead>\n",
       "    <tr style=\"text-align: right;\">\n",
       "      <th></th>\n",
       "      <th>board_id</th>\n",
       "      <th>board_title</th>\n",
       "      <th>board_description</th>\n",
       "      <th>discussion_id</th>\n",
       "      <th>discussion_title</th>\n",
       "      <th>comment_id</th>\n",
       "      <th>comment_body</th>\n",
       "      <th>comment_focus_id</th>\n",
       "      <th>comment_focus_type</th>\n",
       "      <th>comment_user_id</th>\n",
       "      <th>comment_user_login</th>\n",
       "      <th>comment_created_at</th>\n",
       "    </tr>\n",
       "  </thead>\n",
       "  <tbody>\n",
       "    <tr>\n",
       "      <th>47620</th>\n",
       "      <td>1267</td>\n",
       "      <td>Notes</td>\n",
       "      <td>General comment threads about individual subjects</td>\n",
       "      <td>964781</td>\n",
       "      <td>Subject 32411489</td>\n",
       "      <td>1591608</td>\n",
       "      <td>This galaxy looks a bit beat up with the ragge...</td>\n",
       "      <td>32411489.0</td>\n",
       "      <td>Subject</td>\n",
       "      <td>1606700</td>\n",
       "      <td>SearcherPG</td>\n",
       "      <td>2019-04-13 18:09:59.646000+00:00</td>\n",
       "    </tr>\n",
       "    <tr>\n",
       "      <th>87783</th>\n",
       "      <td>1267</td>\n",
       "      <td>Notes</td>\n",
       "      <td>General comment threads about individual subjects</td>\n",
       "      <td>964781</td>\n",
       "      <td>Subject 32411489</td>\n",
       "      <td>2128499</td>\n",
       "      <td>Could it be #merger of two?</td>\n",
       "      <td>32411489.0</td>\n",
       "      <td>Subject</td>\n",
       "      <td>2011938</td>\n",
       "      <td>Jillzzzzzzz</td>\n",
       "      <td>2020-04-01 09:24:37.505000+00:00</td>\n",
       "    </tr>\n",
       "    <tr>\n",
       "      <th>87794</th>\n",
       "      <td>1267</td>\n",
       "      <td>Notes</td>\n",
       "      <td>General comment threads about individual subjects</td>\n",
       "      <td>964781</td>\n",
       "      <td>Subject 32411489</td>\n",
       "      <td>2128631</td>\n",
       "      <td>There is another blue galaxy off the picture, ...</td>\n",
       "      <td>32411489.0</td>\n",
       "      <td>Subject</td>\n",
       "      <td>247</td>\n",
       "      <td>Budgieye</td>\n",
       "      <td>2020-04-01 10:07:22.637000+00:00</td>\n",
       "    </tr>\n",
       "  </tbody>\n",
       "</table>\n",
       "</div>"
      ],
      "text/plain": [
       "       board_id board_title  \\\n",
       "47620      1267       Notes   \n",
       "87783      1267       Notes   \n",
       "87794      1267       Notes   \n",
       "\n",
       "                                       board_description  discussion_id  \\\n",
       "47620  General comment threads about individual subjects         964781   \n",
       "87783  General comment threads about individual subjects         964781   \n",
       "87794  General comment threads about individual subjects         964781   \n",
       "\n",
       "       discussion_title  comment_id  \\\n",
       "47620  Subject 32411489     1591608   \n",
       "87783  Subject 32411489     2128499   \n",
       "87794  Subject 32411489     2128631   \n",
       "\n",
       "                                            comment_body  comment_focus_id  \\\n",
       "47620  This galaxy looks a bit beat up with the ragge...        32411489.0   \n",
       "87783                        Could it be #merger of two?        32411489.0   \n",
       "87794  There is another blue galaxy off the picture, ...        32411489.0   \n",
       "\n",
       "      comment_focus_type  comment_user_id comment_user_login  \\\n",
       "47620            Subject          1606700         SearcherPG   \n",
       "87783            Subject          2011938        Jillzzzzzzz   \n",
       "87794            Subject              247           Budgieye   \n",
       "\n",
       "                    comment_created_at  \n",
       "47620 2019-04-13 18:09:59.646000+00:00  \n",
       "87783 2020-04-01 09:24:37.505000+00:00  \n",
       "87794 2020-04-01 10:07:22.637000+00:00  "
      ]
     },
     "execution_count": 14,
     "metadata": {},
     "output_type": "execute_result"
    }
   ],
   "source": [
    "temp.sort_values('comment_created_at', ascending=True)"
   ]
  },
  {
   "cell_type": "code",
   "execution_count": 15,
   "metadata": {},
   "outputs": [],
   "source": [
    "def get_talk_link(discussion_id, board_id=1267):\n",
    "    return f'https://www.zooniverse.org/projects/zookeeper/galaxy-zoo/talk/{board_id}/{discussion_id}'"
   ]
  },
  {
   "cell_type": "code",
   "execution_count": 16,
   "metadata": {},
   "outputs": [
    {
     "data": {
      "text/plain": [
       "'https://www.zooniverse.org/projects/zookeeper/galaxy-zoo/talk/1267/964781'"
      ]
     },
     "execution_count": 16,
     "metadata": {},
     "output_type": "execute_result"
    }
   ],
   "source": [
    "get_talk_link(temp.iloc[0]['discussion_id'])"
   ]
  },
  {
   "cell_type": "markdown",
   "metadata": {},
   "source": [
    "<a href={talk_link} >Link</a>"
   ]
  },
  {
   "cell_type": "code",
   "execution_count": 18,
   "metadata": {},
   "outputs": [],
   "source": [
    "# comments_per_user[comments_per_user > 100].hist()"
   ]
  },
  {
   "cell_type": "code",
   "execution_count": 19,
   "metadata": {},
   "outputs": [],
   "source": [
    "# comments_per_user[comments_per_user < 100].hist()\n",
    "# # plt.yscale('log')"
   ]
  },
  {
   "cell_type": "code",
   "execution_count": 20,
   "metadata": {},
   "outputs": [],
   "source": [
    "# comments_per_username = com['comment_user_login'].value_counts()\n",
    "# comments_per_username[:15]"
   ]
  },
  {
   "cell_type": "code",
   "execution_count": 21,
   "metadata": {},
   "outputs": [],
   "source": [
    "mods = ['ElisabethB', 'Budgieye']\n"
   ]
  },
  {
   "cell_type": "code",
   "execution_count": null,
   "metadata": {},
   "outputs": [],
   "source": []
  },
  {
   "cell_type": "code",
   "execution_count": 22,
   "metadata": {},
   "outputs": [],
   "source": [
    "# clean the extreme users from the data - care about new users\n",
    "comments_per_user = com['comment_user_id'].value_counts()\n",
    "normal_users = comments_per_user[comments_per_user < 10]\n",
    "\n",
    "# len(normal_users), len(comments_per_user) ## 2600 users of 3000 make 10 or less comments\n",
    "\n",
    "normal = com[com['comment_user_id'].isin(normal_users.index)].reset_index()\n",
    "len(com), len(normal)  ## but the vast majority of comments come from power users\n",
    "\n",
    "power = com[~com['comment_user_id'].isin(normal_users.index)].reset_index()\n",
    "len(com), len(power)  ## so lets do power users \n",
    "# minus the mods?\n",
    "power = power[~power['comment_user_login'].isin(mods)]\n"
   ]
  },
  {
   "cell_type": "code",
   "execution_count": 23,
   "metadata": {},
   "outputs": [
    {
     "data": {
      "text/plain": [
       "0.11931443638760712"
      ]
     },
     "execution_count": 23,
     "metadata": {},
     "output_type": "execute_result"
    }
   ],
   "source": [
    "(comments_per_user > 10).mean()"
   ]
  },
  {
   "cell_type": "code",
   "execution_count": 32,
   "metadata": {},
   "outputs": [],
   "source": [
    "normal.to_csv('normal.csv', index=False)\n",
    "power.to_csv('power.csv', index=False)"
   ]
  },
  {
   "cell_type": "code",
   "execution_count": null,
   "metadata": {},
   "outputs": [],
   "source": [
    "# how many "
   ]
  },
  {
   "cell_type": "code",
   "execution_count": 42,
   "metadata": {},
   "outputs": [],
   "source": [
    "# total galaxies / galaxies classified by that user * k\n",
    "df = power.groupby('comment_user_id').agg({'comment_focus_id': 'count'}).reset_index()\n",
    "df['top1_p'] = df['comment_focus_id'] / df['']\n",
    "df['top10_p'] = 10 * df['comment_focus_id'] / len(df)  # assuming many galaxies"
   ]
  },
  {
   "cell_type": "code",
   "execution_count": 43,
   "metadata": {},
   "outputs": [
    {
     "data": {
      "text/plain": [
       "0      0.038860\n",
       "1      0.038860\n",
       "2      0.639896\n",
       "3      0.217617\n",
       "4      0.033679\n",
       "         ...   \n",
       "381    0.031088\n",
       "382    0.028497\n",
       "383    0.031088\n",
       "384    0.025907\n",
       "385    0.028497\n",
       "Name: top1_p, Length: 386, dtype: float64"
      ]
     },
     "execution_count": 43,
     "metadata": {},
     "output_type": "execute_result"
    }
   ],
   "source": [
    "df['top1_p']"
   ]
  },
  {
   "cell_type": "code",
   "execution_count": 44,
   "metadata": {},
   "outputs": [
    {
     "data": {
      "text/plain": [
       "4.594015946736825"
      ]
     },
     "execution_count": 44,
     "metadata": {},
     "output_type": "execute_result"
    }
   ],
   "source": [
    "df['top10_p'].mean()"
   ]
  },
  {
   "cell_type": "code",
   "execution_count": 45,
   "metadata": {},
   "outputs": [
    {
     "name": "stdout",
     "output_type": "stream",
     "text": [
      "(2646, 5126)\n"
     ]
    }
   ],
   "source": [
    "ratings_normal = ratings.get_rating_matrix(normal)"
   ]
  },
  {
   "cell_type": "code",
   "execution_count": 46,
   "metadata": {},
   "outputs": [
    {
     "name": "stdout",
     "output_type": "stream",
     "text": [
      "[[1. 0. 0. ... 0. 0. 0.]\n",
      " [0. 1. 0. ... 0. 0. 0.]\n",
      " [0. 0. 2. ... 0. 0. 0.]\n",
      " ...\n",
      " [0. 0. 0. ... 0. 0. 1.]\n",
      " [0. 0. 0. ... 0. 0. 0.]\n",
      " [0. 0. 0. ... 1. 1. 0.]]\n"
     ]
    }
   ],
   "source": [
    "print(ratings_normal)"
   ]
  },
  {
   "cell_type": "code",
   "execution_count": 51,
   "metadata": {},
   "outputs": [
    {
     "data": {
      "text/plain": [
       "0.0003991625696101478"
      ]
     },
     "execution_count": 51,
     "metadata": {},
     "output_type": "execute_result"
    }
   ],
   "source": [
    "(ratings_normal > 0).mean()"
   ]
  },
  {
   "cell_type": "code",
   "execution_count": null,
   "metadata": {},
   "outputs": [],
   "source": [
    "np.savetxt('ratings_normal.npy', ratings_normal)"
   ]
  },
  {
   "cell_type": "code",
   "execution_count": 52,
   "metadata": {},
   "outputs": [
    {
     "name": "stdout",
     "output_type": "stream",
     "text": [
      "(386, 43757)\n"
     ]
    }
   ],
   "source": [
    "ratings_power = ratings.get_rating_matrix(power)"
   ]
  },
  {
   "cell_type": "code",
   "execution_count": 53,
   "metadata": {},
   "outputs": [
    {
     "data": {
      "text/plain": [
       "0.003749925548551758"
      ]
     },
     "execution_count": 53,
     "metadata": {},
     "output_type": "execute_result"
    }
   ],
   "source": [
    "# 0.4% odds that a particular galaxy (with at least one comment) will be commented by a particular power user\n",
    "(ratings_power > 0).mean()  "
   ]
  },
  {
   "cell_type": "code",
   "execution_count": null,
   "metadata": {},
   "outputs": [],
   "source": [
    "print(ratings_power)"
   ]
  },
  {
   "cell_type": "code",
   "execution_count": null,
   "metadata": {},
   "outputs": [],
   "source": [
    "np.savetxt('ratings_power.npy', ratings_power)"
   ]
  },
  {
   "cell_type": "code",
   "execution_count": null,
   "metadata": {},
   "outputs": [],
   "source": []
  },
  {
   "cell_type": "code",
   "execution_count": null,
   "metadata": {},
   "outputs": [],
   "source": []
  },
  {
   "cell_type": "code",
   "execution_count": null,
   "metadata": {},
   "outputs": [],
   "source": [
    "tags = pd.read_json('/home/walml/Downloads/project-5733-tags_2020-04-01.json')"
   ]
  },
  {
   "cell_type": "code",
   "execution_count": null,
   "metadata": {},
   "outputs": [],
   "source": [
    "tags"
   ]
  },
  {
   "cell_type": "code",
   "execution_count": null,
   "metadata": {},
   "outputs": [],
   "source": [
    "tags['name'].value_counts()[:30]"
   ]
  },
  {
   "cell_type": "code",
   "execution_count": null,
   "metadata": {},
   "outputs": [],
   "source": []
  }
 ],
 "metadata": {
  "kernelspec": {
   "display_name": "Python 3",
   "language": "python",
   "name": "python3"
  },
  "language_info": {
   "codemirror_mode": {
    "name": "ipython",
    "version": 3
   },
   "file_extension": ".py",
   "mimetype": "text/x-python",
   "name": "python",
   "nbconvert_exporter": "python",
   "pygments_lexer": "ipython3",
   "version": "3.7.6"
  }
 },
 "nbformat": 4,
 "nbformat_minor": 4
}
