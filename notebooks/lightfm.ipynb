{
 "cells": [
  {
   "cell_type": "code",
   "execution_count": 1,
   "metadata": {},
   "outputs": [],
   "source": [
    "%load_ext autoreload\n",
    "%autoreload 2\n",
    "%matplotlib inline"
   ]
  },
  {
   "cell_type": "code",
   "execution_count": 2,
   "metadata": {},
   "outputs": [],
   "source": [
    "import os\n",
    "import random\n",
    "\n",
    "import pandas as pd\n",
    "import matplotlib.pyplot as plt\n",
    "import numpy as np\n",
    "from scipy.sparse import coo_matrix\n",
    "\n",
    "from sklearn.base import BaseEstimator\n",
    "from sklearn.model_selection import RandomizedSearchCV"
   ]
  },
  {
   "cell_type": "code",
   "execution_count": 3,
   "metadata": {},
   "outputs": [],
   "source": [
    "os.chdir('/home/walml/repos/recommender_hack')"
   ]
  },
  {
   "cell_type": "code",
   "execution_count": 4,
   "metadata": {},
   "outputs": [],
   "source": [
    "# !pip install lightfm"
   ]
  },
  {
   "cell_type": "code",
   "execution_count": 5,
   "metadata": {},
   "outputs": [],
   "source": [
    "from lightfm.evaluation import auc_score, precision_at_k\n",
    "from lightfm.cross_validation import random_train_test_split\n",
    "from lightfm import LightFM\n",
    "from lightfm.data import Dataset"
   ]
  },
  {
   "cell_type": "code",
   "execution_count": 6,
   "metadata": {},
   "outputs": [],
   "source": [
    "# df = pd.read_csv('normal.csv')\n",
    "df = pd.read_csv('power.csv')"
   ]
  },
  {
   "cell_type": "code",
   "execution_count": null,
   "metadata": {},
   "outputs": [],
   "source": []
  },
  {
   "cell_type": "code",
   "execution_count": 7,
   "metadata": {},
   "outputs": [
    {
     "data": {
      "text/plain": [
       "(386, 43757)"
      ]
     },
     "execution_count": 7,
     "metadata": {},
     "output_type": "execute_result"
    }
   ],
   "source": [
    "data = Dataset()\n",
    "data.fit(df['comment_user_id'], df['comment_focus_id'])\n",
    "data.model_dimensions()"
   ]
  },
  {
   "cell_type": "code",
   "execution_count": 8,
   "metadata": {},
   "outputs": [],
   "source": [
    "# feature_df = pd.read_csv('notebooks/votes.csv')"
   ]
  },
  {
   "cell_type": "code",
   "execution_count": 9,
   "metadata": {},
   "outputs": [],
   "source": [
    "# feature_cols = ['subject_id', 'bar_no', 'bar_strong', 'bar_weak',\n",
    "#        'bulge-size_dominant', 'bulge-size_large', 'bulge-size_moderate',\n",
    "#        'bulge-size_none', 'bulge-size_small', 'disk-edge-on_no',\n",
    "#        'disk-edge-on_yes', 'edge-on-bulge_boxy', 'edge-on-bulge_none',\n",
    "#        'edge-on-bulge_rounded', 'has-spiral-arms_no',\n",
    "#        'has-spiral-arms_yes', 'how-rounded_cigar-shaped',\n",
    "#        'how-rounded_in-between', 'how-rounded_round', 'merging_both-v1',\n",
    "#        'merging_major-disturbance', 'merging_merger',\n",
    "#        'merging_minor-disturbance', 'merging_neither-v1', 'merging_none',\n",
    "#        'merging_tidal-debris-v1', 'smooth-or-featured_artifact',\n",
    "#        'smooth-or-featured_featured-or-disk', 'smooth-or-featured_smooth',\n",
    "#        'spiral-arm-count_1', 'spiral-arm-count_2', 'spiral-arm-count_3',\n",
    "#        'spiral-arm-count_4', 'spiral-arm-count_cant-tell',\n",
    "#        'spiral-arm-count_more-than-4', 'spiral-winding_loose',\n",
    "#        'spiral-winding_medium', 'spiral-winding_tight']"
   ]
  },
  {
   "cell_type": "code",
   "execution_count": 10,
   "metadata": {},
   "outputs": [],
   "source": [
    "# feature_df = feature_df[feature_cols]"
   ]
  },
  {
   "cell_type": "code",
   "execution_count": 11,
   "metadata": {},
   "outputs": [
    {
     "data": {
      "text/plain": [
       "21660747.0    True\n",
       "35622867.0    True\n",
       "21666161.0    True\n",
       "26440689.0    True\n",
       "28479582.0    True\n",
       "              ... \n",
       "27363364.0    True\n",
       "20925112.0    True\n",
       "32505491.0    True\n",
       "20925162.0    True\n",
       "21667356.0    True\n",
       "Name: comment_focus_id, Length: 13969, dtype: bool"
      ]
     },
     "execution_count": 11,
     "metadata": {},
     "output_type": "execute_result"
    }
   ],
   "source": [
    "t = df['comment_focus_id'].value_counts() > 1\n",
    "t[t]"
   ]
  },
  {
   "cell_type": "code",
   "execution_count": 12,
   "metadata": {},
   "outputs": [],
   "source": [
    "# feature_df['comment_focus_id'] = feature_df['subject_id'].astype(int)"
   ]
  },
  {
   "cell_type": "code",
   "execution_count": 13,
   "metadata": {},
   "outputs": [],
   "source": [
    "# df_2 = pd.merge(df, feature_df, how='inner', on='comment_focus_id')"
   ]
  },
  {
   "cell_type": "code",
   "execution_count": 14,
   "metadata": {},
   "outputs": [],
   "source": [
    "# df_2"
   ]
  },
  {
   "cell_type": "code",
   "execution_count": 113,
   "metadata": {},
   "outputs": [],
   "source": [
    "def get_train_test(df, min_item_interactions=5):\n",
    "    has_multiple_comments = df['comment_focus_id'].value_counts() > min_item_interactions\n",
    "    multiple_comments = has_multiple_comments[has_multiple_comments]  # hilarious\n",
    "    print(len(df))\n",
    "    df = df[df['comment_focus_id'].isin(multiple_comments.index)]\n",
    "    print(len(df))\n",
    "    if 'weights' in df.columns.values:\n",
    "        data_pairs = list(zip(df['comment_user_id'], df['comment_focus_id'], df['weights']))\n",
    "    else:\n",
    "        data_pairs = list(zip(df['comment_user_id'], df['comment_focus_id']))\n",
    "#     random.shuffle(data_pairs)\n",
    "\n",
    "    n_pairs = len(data_pairs)\n",
    "    n_split = int(n_pairs * 0.8)\n",
    "    train = data_pairs[:n_split]\n",
    "    test = data_pairs[n_split:]\n",
    "    return train, test, data_pairs"
   ]
  },
  {
   "cell_type": "code",
   "execution_count": 21,
   "metadata": {},
   "outputs": [
    {
     "name": "stdout",
     "output_type": "stream",
     "text": [
      "68449\n",
      "5139\n"
     ]
    }
   ],
   "source": [
    "train, test, _ = get_train_test(df)"
   ]
  },
  {
   "cell_type": "code",
   "execution_count": 22,
   "metadata": {},
   "outputs": [
    {
     "name": "stdout",
     "output_type": "stream",
     "text": [
      "<386x43757 sparse matrix of type '<class 'numpy.int32'>'\n",
      "\twith 4111 stored elements in COOrdinate format>\n",
      "<386x43757 sparse matrix of type '<class 'numpy.int32'>'\n",
      "\twith 1028 stored elements in COOrdinate format>\n"
     ]
    }
   ],
   "source": [
    "(train_interactions, _) = data.build_interactions(train)\n",
    "print(repr(train_interactions))\n",
    "\n",
    "(test_interactions, _) = data.build_interactions(test)\n",
    "print(repr(test_interactions))\n"
   ]
  },
  {
   "cell_type": "code",
   "execution_count": null,
   "metadata": {},
   "outputs": [],
   "source": []
  },
  {
   "cell_type": "code",
   "execution_count": 119,
   "metadata": {},
   "outputs": [
    {
     "ename": "SyntaxError",
     "evalue": "non-default argument follows default argument (<ipython-input-119-d29f4790cff9>, line 4)",
     "output_type": "error",
     "traceback": [
      "\u001b[0;36m  File \u001b[0;32m\"<ipython-input-119-d29f4790cff9>\"\u001b[0;36m, line \u001b[0;32m4\u001b[0m\n\u001b[0;31m    def __init__(self, data, no_components=10, loss='warp', epochs):\u001b[0m\n\u001b[0m                ^\u001b[0m\n\u001b[0;31mSyntaxError\u001b[0m\u001b[0;31m:\u001b[0m non-default argument follows default argument\n"
     ]
    }
   ],
   "source": [
    "# https://scikit-learn.org/stable/developers/develop.html\n",
    "class LightEstimator(BaseEstimator):\n",
    "    \n",
    "    def __init__(self, data, no_components=10, loss='warp', epochs=1):\n",
    "        self.model = LightFM(loss=loss, no_components=no_components)\n",
    "        self.data = data  # for ids only\n",
    "        self.no_components = no_components\n",
    "        self.loss=loss\n",
    "        self.epochs = epochs\n",
    "\n",
    "    def to_interactions_(self, x):\n",
    "        (interactions, _) = data.build_interactions(x)\n",
    "        return interactions\n",
    "    \n",
    "    def fit(self, x, y=None):\n",
    "        interactions = self.to_interactions_(x)\n",
    "        self.model.fit(interactions, epochs=self.epochs)\n",
    "        \n",
    "    def score(self, x):\n",
    "        interactions = self.to_interactions_(x)\n",
    "        return auc_score(self.model, interactions).mean()\n",
    "\n",
    "        # k items with interaction / k items \n",
    "#         return precision_at_k(self.model, interactions, k=1).mean()\n"
   ]
  },
  {
   "cell_type": "code",
   "execution_count": null,
   "metadata": {},
   "outputs": [],
   "source": []
  },
  {
   "cell_type": "code",
   "execution_count": null,
   "metadata": {},
   "outputs": [],
   "source": []
  },
  {
   "cell_type": "code",
   "execution_count": 104,
   "metadata": {},
   "outputs": [
    {
     "data": {
      "text/plain": [
       "(0.8876644, 0.8609887)"
      ]
     },
     "execution_count": 104,
     "metadata": {},
     "output_type": "execute_result"
    }
   ],
   "source": [
    "estimator = LightEstimator(data)\n",
    "\n",
    "estimator.fit(train)\n",
    "\n",
    "estimator.score(train), estimator.score(test)\n",
    "# 1.4% odds, much better than random (0.4) but still perhaps too low to be useful"
   ]
  },
  {
   "cell_type": "code",
   "execution_count": null,
   "metadata": {},
   "outputs": [],
   "source": []
  },
  {
   "cell_type": "code",
   "execution_count": 80,
   "metadata": {},
   "outputs": [
    {
     "data": {
      "text/html": [
       "<div>\n",
       "<style scoped>\n",
       "    .dataframe tbody tr th:only-of-type {\n",
       "        vertical-align: middle;\n",
       "    }\n",
       "\n",
       "    .dataframe tbody tr th {\n",
       "        vertical-align: top;\n",
       "    }\n",
       "\n",
       "    .dataframe thead th {\n",
       "        text-align: right;\n",
       "    }\n",
       "</style>\n",
       "<table border=\"1\" class=\"dataframe\">\n",
       "  <thead>\n",
       "    <tr style=\"text-align: right;\">\n",
       "      <th></th>\n",
       "      <th>comment_user_id</th>\n",
       "      <th>comment_focus_id</th>\n",
       "    </tr>\n",
       "  </thead>\n",
       "  <tbody>\n",
       "    <tr>\n",
       "      <th>0</th>\n",
       "      <td>142382</td>\n",
       "      <td>36254885</td>\n",
       "    </tr>\n",
       "    <tr>\n",
       "      <th>1</th>\n",
       "      <td>1807448</td>\n",
       "      <td>25809637</td>\n",
       "    </tr>\n",
       "    <tr>\n",
       "      <th>2</th>\n",
       "      <td>1361053</td>\n",
       "      <td>27361502</td>\n",
       "    </tr>\n",
       "    <tr>\n",
       "      <th>3</th>\n",
       "      <td>1392258</td>\n",
       "      <td>35622163</td>\n",
       "    </tr>\n",
       "    <tr>\n",
       "      <th>4</th>\n",
       "      <td>1856537</td>\n",
       "      <td>28481842</td>\n",
       "    </tr>\n",
       "  </tbody>\n",
       "</table>\n",
       "</div>"
      ],
      "text/plain": [
       "   comment_user_id  comment_focus_id\n",
       "0           142382          36254885\n",
       "1          1807448          25809637\n",
       "2          1361053          27361502\n",
       "3          1392258          35622163\n",
       "4          1856537          28481842"
      ]
     },
     "execution_count": 80,
     "metadata": {},
     "output_type": "execute_result"
    }
   ],
   "source": [
    "pair_df = pd.read_csv('../pair_df.csv')\n",
    "pair_df['comment_user_id'] = pair_df['user_id']\n",
    "del pair_df['user_id']\n",
    "pair_df['comment_focus_id'] = pair_df['subject_id']\n",
    "del pair_df['subject_id']\n",
    "pair_df.head()"
   ]
  },
  {
   "cell_type": "code",
   "execution_count": 81,
   "metadata": {},
   "outputs": [],
   "source": [
    "# pair_df['weights_pair'] = -1.  # by default\n",
    "df['weights'] = 1.\n",
    "# del pair_df['weights']"
   ]
  },
  {
   "cell_type": "code",
   "execution_count": 82,
   "metadata": {},
   "outputs": [],
   "source": [
    "def did_talk(user, galaxy):\n",
    "    return np.any((df['comment_user_id'] == str(user)) & (df['comment_focus_id'] == str(galaxy)))  # df passed by closure, careful"
   ]
  },
  {
   "cell_type": "code",
   "execution_count": 83,
   "metadata": {},
   "outputs": [],
   "source": [
    "df['comment_focus_id'] = df['comment_focus_id'].astype(int).astype(str)\n",
    "df['comment_user_id'] = df['comment_user_id'].astype(int).astype(str)\n",
    "pair_df['comment_focus_id'] = pair_df['comment_focus_id'].astype(int).astype(str)\n",
    "pair_df['comment_user_id'] = pair_df['comment_user_id'].astype(int).astype(str)"
   ]
  },
  {
   "cell_type": "code",
   "execution_count": 84,
   "metadata": {},
   "outputs": [
    {
     "data": {
      "text/html": [
       "<div>\n",
       "<style scoped>\n",
       "    .dataframe tbody tr th:only-of-type {\n",
       "        vertical-align: middle;\n",
       "    }\n",
       "\n",
       "    .dataframe tbody tr th {\n",
       "        vertical-align: top;\n",
       "    }\n",
       "\n",
       "    .dataframe thead th {\n",
       "        text-align: right;\n",
       "    }\n",
       "</style>\n",
       "<table border=\"1\" class=\"dataframe\">\n",
       "  <thead>\n",
       "    <tr style=\"text-align: right;\">\n",
       "      <th></th>\n",
       "      <th>index</th>\n",
       "      <th>board_id</th>\n",
       "      <th>board_title</th>\n",
       "      <th>board_description</th>\n",
       "      <th>discussion_id</th>\n",
       "      <th>discussion_title</th>\n",
       "      <th>comment_id</th>\n",
       "      <th>comment_body</th>\n",
       "      <th>comment_focus_id</th>\n",
       "      <th>comment_focus_type</th>\n",
       "      <th>comment_user_id</th>\n",
       "      <th>comment_user_login</th>\n",
       "      <th>comment_created_at</th>\n",
       "      <th>weights_comments</th>\n",
       "      <th>weights_comment</th>\n",
       "      <th>weights</th>\n",
       "    </tr>\n",
       "  </thead>\n",
       "  <tbody>\n",
       "    <tr>\n",
       "      <th>0</th>\n",
       "      <td>0</td>\n",
       "      <td>1267</td>\n",
       "      <td>Notes</td>\n",
       "      <td>General comment threads about individual subjects</td>\n",
       "      <td>528398</td>\n",
       "      <td>Subject 16215478</td>\n",
       "      <td>876591</td>\n",
       "      <td>The zoom scale of this image is incorrect. I a...</td>\n",
       "      <td>16215478</td>\n",
       "      <td>Subject</td>\n",
       "      <td>54</td>\n",
       "      <td>klmasters</td>\n",
       "      <td>2018-01-22 19:45:35.679000+00:00</td>\n",
       "      <td>1.0</td>\n",
       "      <td>1.0</td>\n",
       "      <td>1.0</td>\n",
       "    </tr>\n",
       "    <tr>\n",
       "      <th>1</th>\n",
       "      <td>2</td>\n",
       "      <td>1267</td>\n",
       "      <td>Notes</td>\n",
       "      <td>General comment threads about individual subjects</td>\n",
       "      <td>528398</td>\n",
       "      <td>Subject 16215478</td>\n",
       "      <td>894381</td>\n",
       "      <td>Agree with @klmasters on scale difference. Ans...</td>\n",
       "      <td>16215478</td>\n",
       "      <td>Subject</td>\n",
       "      <td>1428920</td>\n",
       "      <td>MerylPG</td>\n",
       "      <td>2018-02-06 15:13:36.441000+00:00</td>\n",
       "      <td>1.0</td>\n",
       "      <td>1.0</td>\n",
       "      <td>1.0</td>\n",
       "    </tr>\n",
       "    <tr>\n",
       "      <th>2</th>\n",
       "      <td>19</td>\n",
       "      <td>1267</td>\n",
       "      <td>Notes</td>\n",
       "      <td>General comment threads about individual subjects</td>\n",
       "      <td>539357</td>\n",
       "      <td>Subject 16215369</td>\n",
       "      <td>894501</td>\n",
       "      <td>lumpy</td>\n",
       "      <td>16215369</td>\n",
       "      <td>Subject</td>\n",
       "      <td>3870</td>\n",
       "      <td>trevor_allen_faller</td>\n",
       "      <td>2018-02-06 16:38:47.715000+00:00</td>\n",
       "      <td>1.0</td>\n",
       "      <td>1.0</td>\n",
       "      <td>1.0</td>\n",
       "    </tr>\n",
       "    <tr>\n",
       "      <th>3</th>\n",
       "      <td>33</td>\n",
       "      <td>1267</td>\n",
       "      <td>Notes</td>\n",
       "      <td>General comment threads about individual subjects</td>\n",
       "      <td>539298</td>\n",
       "      <td>Subject 16215566</td>\n",
       "      <td>894950</td>\n",
       "      <td>salut bravo pour le nouveau serveur il est tou...</td>\n",
       "      <td>16215566</td>\n",
       "      <td>Subject</td>\n",
       "      <td>1337311</td>\n",
       "      <td>discala_</td>\n",
       "      <td>2018-02-06 20:13:57.133000+00:00</td>\n",
       "      <td>1.0</td>\n",
       "      <td>1.0</td>\n",
       "      <td>1.0</td>\n",
       "    </tr>\n",
       "    <tr>\n",
       "      <th>4</th>\n",
       "      <td>36</td>\n",
       "      <td>1267</td>\n",
       "      <td>Notes</td>\n",
       "      <td>General comment threads about individual subjects</td>\n",
       "      <td>539368</td>\n",
       "      <td>Subject 16215384</td>\n",
       "      <td>894974</td>\n",
       "      <td>Hmm @StephenHawking</td>\n",
       "      <td>16215384</td>\n",
       "      <td>Subject</td>\n",
       "      <td>1373986</td>\n",
       "      <td>Ghost_Sheep_SWR</td>\n",
       "      <td>2018-02-06 20:24:45.930000+00:00</td>\n",
       "      <td>1.0</td>\n",
       "      <td>1.0</td>\n",
       "      <td>1.0</td>\n",
       "    </tr>\n",
       "  </tbody>\n",
       "</table>\n",
       "</div>"
      ],
      "text/plain": [
       "   index  board_id board_title  \\\n",
       "0      0      1267       Notes   \n",
       "1      2      1267       Notes   \n",
       "2     19      1267       Notes   \n",
       "3     33      1267       Notes   \n",
       "4     36      1267       Notes   \n",
       "\n",
       "                                   board_description  discussion_id  \\\n",
       "0  General comment threads about individual subjects         528398   \n",
       "1  General comment threads about individual subjects         528398   \n",
       "2  General comment threads about individual subjects         539357   \n",
       "3  General comment threads about individual subjects         539298   \n",
       "4  General comment threads about individual subjects         539368   \n",
       "\n",
       "   discussion_title  comment_id  \\\n",
       "0  Subject 16215478      876591   \n",
       "1  Subject 16215478      894381   \n",
       "2  Subject 16215369      894501   \n",
       "3  Subject 16215566      894950   \n",
       "4  Subject 16215384      894974   \n",
       "\n",
       "                                        comment_body comment_focus_id  \\\n",
       "0  The zoom scale of this image is incorrect. I a...         16215478   \n",
       "1  Agree with @klmasters on scale difference. Ans...         16215478   \n",
       "2                                             lumpy          16215369   \n",
       "3  salut bravo pour le nouveau serveur il est tou...         16215566   \n",
       "4                                Hmm @StephenHawking         16215384   \n",
       "\n",
       "  comment_focus_type comment_user_id   comment_user_login  \\\n",
       "0            Subject              54            klmasters   \n",
       "1            Subject         1428920              MerylPG   \n",
       "2            Subject            3870  trevor_allen_faller   \n",
       "3            Subject         1337311             discala_   \n",
       "4            Subject         1373986      Ghost_Sheep_SWR   \n",
       "\n",
       "                 comment_created_at  weights_comments  weights_comment  \\\n",
       "0  2018-01-22 19:45:35.679000+00:00               1.0              1.0   \n",
       "1  2018-02-06 15:13:36.441000+00:00               1.0              1.0   \n",
       "2  2018-02-06 16:38:47.715000+00:00               1.0              1.0   \n",
       "3  2018-02-06 20:13:57.133000+00:00               1.0              1.0   \n",
       "4  2018-02-06 20:24:45.930000+00:00               1.0              1.0   \n",
       "\n",
       "   weights  \n",
       "0      1.0  \n",
       "1      1.0  \n",
       "2      1.0  \n",
       "3      1.0  \n",
       "4      1.0  "
      ]
     },
     "execution_count": 84,
     "metadata": {},
     "output_type": "execute_result"
    }
   ],
   "source": [
    "df.head()"
   ]
  },
  {
   "cell_type": "code",
   "execution_count": 85,
   "metadata": {},
   "outputs": [
    {
     "data": {
      "text/html": [
       "<div>\n",
       "<style scoped>\n",
       "    .dataframe tbody tr th:only-of-type {\n",
       "        vertical-align: middle;\n",
       "    }\n",
       "\n",
       "    .dataframe tbody tr th {\n",
       "        vertical-align: top;\n",
       "    }\n",
       "\n",
       "    .dataframe thead th {\n",
       "        text-align: right;\n",
       "    }\n",
       "</style>\n",
       "<table border=\"1\" class=\"dataframe\">\n",
       "  <thead>\n",
       "    <tr style=\"text-align: right;\">\n",
       "      <th></th>\n",
       "      <th>comment_user_id</th>\n",
       "      <th>comment_focus_id</th>\n",
       "    </tr>\n",
       "  </thead>\n",
       "  <tbody>\n",
       "    <tr>\n",
       "      <th>0</th>\n",
       "      <td>142382</td>\n",
       "      <td>36254885</td>\n",
       "    </tr>\n",
       "    <tr>\n",
       "      <th>1</th>\n",
       "      <td>1807448</td>\n",
       "      <td>25809637</td>\n",
       "    </tr>\n",
       "    <tr>\n",
       "      <th>2</th>\n",
       "      <td>1361053</td>\n",
       "      <td>27361502</td>\n",
       "    </tr>\n",
       "    <tr>\n",
       "      <th>3</th>\n",
       "      <td>1392258</td>\n",
       "      <td>35622163</td>\n",
       "    </tr>\n",
       "    <tr>\n",
       "      <th>4</th>\n",
       "      <td>1856537</td>\n",
       "      <td>28481842</td>\n",
       "    </tr>\n",
       "  </tbody>\n",
       "</table>\n",
       "</div>"
      ],
      "text/plain": [
       "  comment_user_id comment_focus_id\n",
       "0          142382         36254885\n",
       "1         1807448         25809637\n",
       "2         1361053         27361502\n",
       "3         1392258         35622163\n",
       "4         1856537         28481842"
      ]
     },
     "execution_count": 85,
     "metadata": {},
     "output_type": "execute_result"
    }
   ],
   "source": [
    "pair_df.head()"
   ]
  },
  {
   "cell_type": "code",
   "execution_count": 86,
   "metadata": {},
   "outputs": [],
   "source": [
    "# df['weights_temp'] = 1."
   ]
  },
  {
   "cell_type": "code",
   "execution_count": 89,
   "metadata": {},
   "outputs": [],
   "source": [
    "inter_df = pd.merge(pair_df, df[['comment_user_id', 'comment_focus_id', 'weights']], how='left', on=['comment_user_id', 'comment_focus_id'])"
   ]
  },
  {
   "cell_type": "code",
   "execution_count": 90,
   "metadata": {},
   "outputs": [
    {
     "data": {
      "text/plain": [
       "409981"
      ]
     },
     "execution_count": 90,
     "metadata": {},
     "output_type": "execute_result"
    }
   ],
   "source": [
    "len(inter_df)"
   ]
  },
  {
   "cell_type": "code",
   "execution_count": 91,
   "metadata": {},
   "outputs": [
    {
     "data": {
      "text/html": [
       "<div>\n",
       "<style scoped>\n",
       "    .dataframe tbody tr th:only-of-type {\n",
       "        vertical-align: middle;\n",
       "    }\n",
       "\n",
       "    .dataframe tbody tr th {\n",
       "        vertical-align: top;\n",
       "    }\n",
       "\n",
       "    .dataframe thead th {\n",
       "        text-align: right;\n",
       "    }\n",
       "</style>\n",
       "<table border=\"1\" class=\"dataframe\">\n",
       "  <thead>\n",
       "    <tr style=\"text-align: right;\">\n",
       "      <th></th>\n",
       "      <th>comment_user_id</th>\n",
       "      <th>comment_focus_id</th>\n",
       "      <th>weights</th>\n",
       "    </tr>\n",
       "  </thead>\n",
       "  <tbody>\n",
       "    <tr>\n",
       "      <th>358</th>\n",
       "      <td>1606700</td>\n",
       "      <td>32499144</td>\n",
       "      <td>NaN</td>\n",
       "    </tr>\n",
       "    <tr>\n",
       "      <th>100266</th>\n",
       "      <td>1919600</td>\n",
       "      <td>34240353</td>\n",
       "      <td>NaN</td>\n",
       "    </tr>\n",
       "    <tr>\n",
       "      <th>307589</th>\n",
       "      <td>114979</td>\n",
       "      <td>26445936</td>\n",
       "      <td>NaN</td>\n",
       "    </tr>\n",
       "    <tr>\n",
       "      <th>224593</th>\n",
       "      <td>31153</td>\n",
       "      <td>37902445</td>\n",
       "      <td>NaN</td>\n",
       "    </tr>\n",
       "    <tr>\n",
       "      <th>120350</th>\n",
       "      <td>300080</td>\n",
       "      <td>21664593</td>\n",
       "      <td>NaN</td>\n",
       "    </tr>\n",
       "    <tr>\n",
       "      <th>185185</th>\n",
       "      <td>31153</td>\n",
       "      <td>28491347</td>\n",
       "      <td>NaN</td>\n",
       "    </tr>\n",
       "    <tr>\n",
       "      <th>399875</th>\n",
       "      <td>1361053</td>\n",
       "      <td>28478689</td>\n",
       "      <td>NaN</td>\n",
       "    </tr>\n",
       "    <tr>\n",
       "      <th>82424</th>\n",
       "      <td>1702083</td>\n",
       "      <td>25810873</td>\n",
       "      <td>NaN</td>\n",
       "    </tr>\n",
       "    <tr>\n",
       "      <th>195207</th>\n",
       "      <td>1635018</td>\n",
       "      <td>34060146</td>\n",
       "      <td>NaN</td>\n",
       "    </tr>\n",
       "    <tr>\n",
       "      <th>405257</th>\n",
       "      <td>1246201</td>\n",
       "      <td>28490954</td>\n",
       "      <td>NaN</td>\n",
       "    </tr>\n",
       "    <tr>\n",
       "      <th>167400</th>\n",
       "      <td>1773367</td>\n",
       "      <td>28486474</td>\n",
       "      <td>NaN</td>\n",
       "    </tr>\n",
       "    <tr>\n",
       "      <th>268490</th>\n",
       "      <td>1864344</td>\n",
       "      <td>34357642</td>\n",
       "      <td>NaN</td>\n",
       "    </tr>\n",
       "    <tr>\n",
       "      <th>381273</th>\n",
       "      <td>1785650</td>\n",
       "      <td>20923496</td>\n",
       "      <td>NaN</td>\n",
       "    </tr>\n",
       "    <tr>\n",
       "      <th>48583</th>\n",
       "      <td>175</td>\n",
       "      <td>34060496</td>\n",
       "      <td>NaN</td>\n",
       "    </tr>\n",
       "    <tr>\n",
       "      <th>380535</th>\n",
       "      <td>1270225</td>\n",
       "      <td>26446083</td>\n",
       "      <td>NaN</td>\n",
       "    </tr>\n",
       "    <tr>\n",
       "      <th>29132</th>\n",
       "      <td>1944089</td>\n",
       "      <td>32396635</td>\n",
       "      <td>NaN</td>\n",
       "    </tr>\n",
       "    <tr>\n",
       "      <th>608</th>\n",
       "      <td>336124</td>\n",
       "      <td>28482526</td>\n",
       "      <td>NaN</td>\n",
       "    </tr>\n",
       "    <tr>\n",
       "      <th>252307</th>\n",
       "      <td>336124</td>\n",
       "      <td>25810085</td>\n",
       "      <td>NaN</td>\n",
       "    </tr>\n",
       "    <tr>\n",
       "      <th>64206</th>\n",
       "      <td>855316</td>\n",
       "      <td>32505925</td>\n",
       "      <td>NaN</td>\n",
       "    </tr>\n",
       "    <tr>\n",
       "      <th>393580</th>\n",
       "      <td>1633235</td>\n",
       "      <td>32498337</td>\n",
       "      <td>NaN</td>\n",
       "    </tr>\n",
       "  </tbody>\n",
       "</table>\n",
       "</div>"
      ],
      "text/plain": [
       "       comment_user_id comment_focus_id  weights\n",
       "358            1606700         32499144      NaN\n",
       "100266         1919600         34240353      NaN\n",
       "307589          114979         26445936      NaN\n",
       "224593           31153         37902445      NaN\n",
       "120350          300080         21664593      NaN\n",
       "185185           31153         28491347      NaN\n",
       "399875         1361053         28478689      NaN\n",
       "82424          1702083         25810873      NaN\n",
       "195207         1635018         34060146      NaN\n",
       "405257         1246201         28490954      NaN\n",
       "167400         1773367         28486474      NaN\n",
       "268490         1864344         34357642      NaN\n",
       "381273         1785650         20923496      NaN\n",
       "48583              175         34060496      NaN\n",
       "380535         1270225         26446083      NaN\n",
       "29132          1944089         32396635      NaN\n",
       "608             336124         28482526      NaN\n",
       "252307          336124         25810085      NaN\n",
       "64206           855316         32505925      NaN\n",
       "393580         1633235         32498337      NaN"
      ]
     },
     "execution_count": 91,
     "metadata": {},
     "output_type": "execute_result"
    }
   ],
   "source": [
    "inter_df.sample(20)"
   ]
  },
  {
   "cell_type": "code",
   "execution_count": 92,
   "metadata": {},
   "outputs": [
    {
     "data": {
      "text/plain": [
       "0         NaN\n",
       "1         NaN\n",
       "2         NaN\n",
       "3         1.0\n",
       "4         NaN\n",
       "         ... \n",
       "409976    NaN\n",
       "409977    NaN\n",
       "409978    NaN\n",
       "409979    NaN\n",
       "409980    NaN\n",
       "Name: weights, Length: 409981, dtype: float64"
      ]
     },
     "execution_count": 92,
     "metadata": {},
     "output_type": "execute_result"
    }
   ],
   "source": [
    "weights = inter_df['weights']\n",
    "weights"
   ]
  },
  {
   "cell_type": "code",
   "execution_count": 93,
   "metadata": {},
   "outputs": [
    {
     "data": {
      "text/plain": [
       "0         False\n",
       "1         False\n",
       "2         False\n",
       "3          True\n",
       "4         False\n",
       "          ...  \n",
       "409976    False\n",
       "409977    False\n",
       "409978    False\n",
       "409979    False\n",
       "409980    False\n",
       "Name: weights, Length: 409981, dtype: bool"
      ]
     },
     "execution_count": 93,
     "metadata": {},
     "output_type": "execute_result"
    }
   ],
   "source": [
    "~pd.isnull(weights)"
   ]
  },
  {
   "cell_type": "code",
   "execution_count": 94,
   "metadata": {},
   "outputs": [
    {
     "data": {
      "text/plain": [
       "0        -1.0\n",
       "1        -1.0\n",
       "2        -1.0\n",
       "3         1.0\n",
       "4        -1.0\n",
       "         ... \n",
       "409976   -1.0\n",
       "409977   -1.0\n",
       "409978   -1.0\n",
       "409979   -1.0\n",
       "409980   -1.0\n",
       "Name: weights, Length: 409981, dtype: float64"
      ]
     },
     "execution_count": 94,
     "metadata": {},
     "output_type": "execute_result"
    }
   ],
   "source": [
    "weights = inter_df['weights']\n",
    "weights = weights.where(~pd.isnull(weights), other=-1.,)  # replace weights values with -1 where they did not talk\n",
    "weights"
   ]
  },
  {
   "cell_type": "code",
   "execution_count": 95,
   "metadata": {},
   "outputs": [],
   "source": [
    "inter_df['weights'] = weights"
   ]
  },
  {
   "cell_type": "code",
   "execution_count": 96,
   "metadata": {},
   "outputs": [
    {
     "data": {
      "text/plain": [
       "-0.7115866345025745"
      ]
     },
     "execution_count": 96,
     "metadata": {},
     "output_type": "execute_result"
    }
   ],
   "source": [
    "inter_df['weights'].mean()"
   ]
  },
  {
   "cell_type": "code",
   "execution_count": null,
   "metadata": {},
   "outputs": [],
   "source": []
  },
  {
   "cell_type": "code",
   "execution_count": 97,
   "metadata": {},
   "outputs": [
    {
     "data": {
      "text/plain": [
       "(361, 106141)"
      ]
     },
     "execution_count": 97,
     "metadata": {},
     "output_type": "execute_result"
    }
   ],
   "source": [
    "data = Dataset()\n",
    "data.fit(inter_df['comment_user_id'], inter_df['comment_focus_id'])\n",
    "data.model_dimensions()"
   ]
  },
  {
   "cell_type": "code",
   "execution_count": 114,
   "metadata": {},
   "outputs": [
    {
     "name": "stdout",
     "output_type": "stream",
     "text": [
      "409981\n",
      "222167\n"
     ]
    }
   ],
   "source": [
    "train, test, data_pairs = get_train_test(inter_df)"
   ]
  },
  {
   "cell_type": "code",
   "execution_count": 99,
   "metadata": {},
   "outputs": [
    {
     "data": {
      "text/plain": [
       "357"
      ]
     },
     "execution_count": 99,
     "metadata": {},
     "output_type": "execute_result"
    }
   ],
   "source": [
    "len(set([x[0] for x in train]))"
   ]
  },
  {
   "cell_type": "code",
   "execution_count": 100,
   "metadata": {},
   "outputs": [
    {
     "data": {
      "text/plain": [
       "344"
      ]
     },
     "execution_count": 100,
     "metadata": {},
     "output_type": "execute_result"
    }
   ],
   "source": [
    "len(set([x[0] for x in train]).intersection([x[0] for x in test]))"
   ]
  },
  {
   "cell_type": "code",
   "execution_count": 101,
   "metadata": {},
   "outputs": [
    {
     "data": {
      "text/plain": [
       "23398"
      ]
     },
     "execution_count": 101,
     "metadata": {},
     "output_type": "execute_result"
    }
   ],
   "source": [
    "len(set([x[1] for x in train]).intersection([x[1] for x in test]))"
   ]
  },
  {
   "cell_type": "code",
   "execution_count": 102,
   "metadata": {},
   "outputs": [
    {
     "data": {
      "text/plain": [
       "29079"
      ]
     },
     "execution_count": 102,
     "metadata": {},
     "output_type": "execute_result"
    }
   ],
   "source": [
    "len(set([x[1] for x in train]))"
   ]
  },
  {
   "cell_type": "code",
   "execution_count": 105,
   "metadata": {},
   "outputs": [
    {
     "data": {
      "text/plain": [
       "30888"
      ]
     },
     "execution_count": 105,
     "metadata": {},
     "output_type": "execute_result"
    }
   ],
   "source": [
    "(inter_df['comment_focus_id'].value_counts() == 1).sum()"
   ]
  },
  {
   "cell_type": "code",
   "execution_count": 106,
   "metadata": {},
   "outputs": [
    {
     "data": {
      "text/plain": [
       "106141"
      ]
     },
     "execution_count": 106,
     "metadata": {},
     "output_type": "execute_result"
    }
   ],
   "source": [
    "len(inter_df['comment_focus_id'].unique())"
   ]
  },
  {
   "cell_type": "code",
   "execution_count": 107,
   "metadata": {},
   "outputs": [
    {
     "data": {
      "text/plain": [
       "(-0.7022612570541205, -0.7060359184408336)"
      ]
     },
     "execution_count": 107,
     "metadata": {},
     "output_type": "execute_result"
    }
   ],
   "source": [
    "np.mean([x[2] for x in train]), np.mean([x[2] for x in test])"
   ]
  },
  {
   "cell_type": "code",
   "execution_count": 108,
   "metadata": {},
   "outputs": [
    {
     "name": "stdout",
     "output_type": "stream",
     "text": [
      "<361x106141 sparse matrix of type '<class 'numpy.int32'>'\n",
      "\twith 177733 stored elements in COOrdinate format>\n",
      "<361x106141 sparse matrix of type '<class 'numpy.int32'>'\n",
      "\twith 44434 stored elements in COOrdinate format>\n"
     ]
    }
   ],
   "source": [
    "(train_interactions, _) = data.build_interactions(train)\n",
    "print(repr(train_interactions))\n",
    "\n",
    "(test_interactions, _) = data.build_interactions(test)\n",
    "print(repr(test_interactions))"
   ]
  },
  {
   "cell_type": "code",
   "execution_count": 110,
   "metadata": {},
   "outputs": [
    {
     "data": {
      "text/plain": [
       "(0.9139584, 0.85021776)"
      ]
     },
     "execution_count": 110,
     "metadata": {},
     "output_type": "execute_result"
    }
   ],
   "source": [
    "estimator = LightEstimator(data, loss='logistic')\n",
    "\n",
    "estimator.fit(train)\n",
    "\n",
    "estimator.score(train), estimator.score(test)\n",
    "\n",
    "# rank 1 score still seems super poor - but AUC is now good??"
   ]
  },
  {
   "cell_type": "code",
   "execution_count": null,
   "metadata": {},
   "outputs": [],
   "source": []
  },
  {
   "cell_type": "code",
   "execution_count": null,
   "metadata": {},
   "outputs": [],
   "source": []
  },
  {
   "cell_type": "code",
   "execution_count": null,
   "metadata": {},
   "outputs": [],
   "source": []
  },
  {
   "cell_type": "code",
   "execution_count": null,
   "metadata": {},
   "outputs": [],
   "source": [
    "assert False"
   ]
  },
  {
   "cell_type": "code",
   "execution_count": 115,
   "metadata": {},
   "outputs": [],
   "source": [
    "param_distributions = {\n",
    "#     'C': scipy.stats.expon(scale=100),\n",
    "#     'gamma': scipy.stats.expon(scale=.1),\n",
    "#     'kernel': ['rbf'],\n",
    "#     'class_weight':['balanced', None]\n",
    "    'no_components': [3, 10, 50]\n",
    "}"
   ]
  },
  {
   "cell_type": "code",
   "execution_count": 116,
   "metadata": {},
   "outputs": [
    {
     "name": "stderr",
     "output_type": "stream",
     "text": [
      "/home/walml/anaconda3/envs/agnfinder/lib/python3.7/site-packages/sklearn/model_selection/_search.py:281: UserWarning: The total space of parameters 3 is smaller than n_iter=10. Running 3 iterations. For exhaustive searches, use GridSearchCV.\n",
      "  % (grid_size, self.n_iter, grid_size), UserWarning)\n"
     ]
    },
    {
     "data": {
      "text/plain": [
       "RandomizedSearchCV(cv=None, error_score=nan,\n",
       "                   estimator=LightEstimator(data=<lightfm.data.Dataset object at 0x7fb5a57638d0>,\n",
       "                                            loss='logistic', no_components=10),\n",
       "                   iid='deprecated', n_iter=10, n_jobs=None,\n",
       "                   param_distributions={'no_components': [3, 10, 50]},\n",
       "                   pre_dispatch='2*n_jobs', random_state=None, refit=True,\n",
       "                   return_train_score=False, scoring=None, verbose=0)"
      ]
     },
     "execution_count": 116,
     "metadata": {},
     "output_type": "execute_result"
    }
   ],
   "source": [
    "cv = RandomizedSearchCV(estimator, param_distributions, n_iter=10)\n",
    "cv.fit(data_pairs)"
   ]
  },
  {
   "cell_type": "code",
   "execution_count": 117,
   "metadata": {},
   "outputs": [
    {
     "data": {
      "text/plain": [
       "[('mean_fit_time', array([0.3299808 , 0.32830114, 0.32712307])),\n",
       " ('mean_score_time', array([6.13791189, 6.06816068, 6.08909593])),\n",
       " ('mean_test_score', array([0.85045449, 0.85054018, 0.8501372 ])),\n",
       " ('param_no_components',\n",
       "  masked_array(data=[3, 10, 50],\n",
       "               mask=[False, False, False],\n",
       "         fill_value='?',\n",
       "              dtype=object)),\n",
       " ('params',\n",
       "  [{'no_components': 3}, {'no_components': 10}, {'no_components': 50}]),\n",
       " ('rank_test_score', array([2, 1, 3], dtype=int32)),\n",
       " ('split0_test_score', array([0.84998202, 0.85101593, 0.8509655 ])),\n",
       " ('split1_test_score', array([0.85099459, 0.85052007, 0.85073084])),\n",
       " ('split2_test_score', array([0.85029   , 0.85098076, 0.85039943])),\n",
       " ('split3_test_score', array([0.85071158, 0.85078484, 0.84974629])),\n",
       " ('split4_test_score', array([0.85029423, 0.84939933, 0.84884393])),\n",
       " ('std_fit_time', array([0.00444182, 0.00718766, 0.004927  ])),\n",
       " ('std_score_time', array([0.05097427, 0.0152363 , 0.04428639])),\n",
       " ('std_test_score', array([0.00035602, 0.00059703, 0.00076585]))]"
      ]
     },
     "execution_count": 117,
     "metadata": {},
     "output_type": "execute_result"
    }
   ],
   "source": [
    "sorted(cv.cv_results_.items())"
   ]
  },
  {
   "cell_type": "code",
   "execution_count": 118,
   "metadata": {},
   "outputs": [
    {
     "data": {
      "text/plain": [
       "(LightEstimator(data=<lightfm.data.Dataset object at 0x7fb5a29b7150>,\n",
       "                loss='logistic', no_components=10),\n",
       " 0.8505401849746704)"
      ]
     },
     "execution_count": 118,
     "metadata": {},
     "output_type": "execute_result"
    }
   ],
   "source": [
    "cv.best_estimator_, cv.best_score_"
   ]
  },
  {
   "cell_type": "code",
   "execution_count": null,
   "metadata": {},
   "outputs": [],
   "source": []
  },
  {
   "cell_type": "code",
   "execution_count": null,
   "metadata": {},
   "outputs": [],
   "source": [
    "def score_model(train, test):\n",
    "\n",
    "    \n",
    "    train_precision = precision_at_k(model, train, k=10).mean()\n",
    "    test_precision = precision_at_k(model, test, k=10).mean()\n",
    "\n",
    "    train_auc = auc_score(model, train).mean()\n",
    "    test_auc = auc_score(model, test).mean()\n",
    "\n",
    "    print('Precision: train %.2f, test %.2f.' % (train_precision, test_precision))\n",
    "    print('AUC: train %.2f, test %.2f.' % (train_auc, test_auc))\n",
    "    \n",
    "    return test_precision"
   ]
  },
  {
   "cell_type": "code",
   "execution_count": null,
   "metadata": {},
   "outputs": [],
   "source": []
  },
  {
   "cell_type": "code",
   "execution_count": null,
   "metadata": {},
   "outputs": [],
   "source": []
  },
  {
   "cell_type": "code",
   "execution_count": null,
   "metadata": {},
   "outputs": [],
   "source": []
  },
  {
   "cell_type": "code",
   "execution_count": null,
   "metadata": {},
   "outputs": [],
   "source": []
  },
  {
   "cell_type": "code",
   "execution_count": null,
   "metadata": {},
   "outputs": [],
   "source": [
    "ratings_normal_dense = np.loadtxt('ratings_normal.npy')"
   ]
  },
  {
   "cell_type": "code",
   "execution_count": null,
   "metadata": {},
   "outputs": [],
   "source": [
    "train = ratings_normal_dense[:2000]\n",
    "test = ratings_normal_dense[2000:]"
   ]
  },
  {
   "cell_type": "code",
   "execution_count": null,
   "metadata": {},
   "outputs": [],
   "source": [
    "train = coo_matrix(train)\n",
    "test = coo_matrix(test)"
   ]
  },
  {
   "cell_type": "code",
   "execution_count": null,
   "metadata": {},
   "outputs": [],
   "source": []
  },
  {
   "cell_type": "code",
   "execution_count": null,
   "metadata": {},
   "outputs": [],
   "source": [
    "from lightfm import LightFM\n",
    "\n",
    "model = LightFM(no_components=30)"
   ]
  },
  {
   "cell_type": "code",
   "execution_count": null,
   "metadata": {},
   "outputs": [],
   "source": [
    "model.fit(train, epochs=20)"
   ]
  },
  {
   "cell_type": "code",
   "execution_count": null,
   "metadata": {},
   "outputs": [],
   "source": [
    "user_ids = list(range(test.shape[0]))\n",
    "item_ids = list(range(test.shape[1]))"
   ]
  },
  {
   "cell_type": "code",
   "execution_count": null,
   "metadata": {},
   "outputs": [],
   "source": [
    "predictions = model.predict([0], item_ids)\n"
   ]
  },
  {
   "cell_type": "code",
   "execution_count": null,
   "metadata": {},
   "outputs": [],
   "source": [
    "test.shape, train.shape"
   ]
  },
  {
   "cell_type": "code",
   "execution_count": null,
   "metadata": {},
   "outputs": [],
   "source": [
    "test_precision = precision_at_k(model, test, k=5).mean()"
   ]
  },
  {
   "cell_type": "code",
   "execution_count": null,
   "metadata": {},
   "outputs": [],
   "source": [
    "predictions"
   ]
  },
  {
   "cell_type": "code",
   "execution_count": null,
   "metadata": {},
   "outputs": [],
   "source": [
    "plt.hist(predictions, bins=30)"
   ]
  },
  {
   "cell_type": "code",
   "execution_count": null,
   "metadata": {},
   "outputs": [],
   "source": []
  }
 ],
 "metadata": {
  "kernelspec": {
   "display_name": "Python 3",
   "language": "python",
   "name": "python3"
  },
  "language_info": {
   "codemirror_mode": {
    "name": "ipython",
    "version": 3
   },
   "file_extension": ".py",
   "mimetype": "text/x-python",
   "name": "python",
   "nbconvert_exporter": "python",
   "pygments_lexer": "ipython3",
   "version": "3.7.6"
  }
 },
 "nbformat": 4,
 "nbformat_minor": 4
}
